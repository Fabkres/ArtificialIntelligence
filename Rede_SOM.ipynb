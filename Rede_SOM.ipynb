{
  "nbformat": 4,
  "nbformat_minor": 0,
  "metadata": {
    "colab": {
      "provenance": [],
      "authorship_tag": "ABX9TyMAcy98xHH/u7joXR60WVgC",
      "include_colab_link": true
    },
    "kernelspec": {
      "name": "python3",
      "display_name": "Python 3"
    },
    "language_info": {
      "name": "python"
    }
  },
  "cells": [
    {
      "cell_type": "markdown",
      "metadata": {
        "id": "view-in-github",
        "colab_type": "text"
      },
      "source": [
        "<a href=\"https://colab.research.google.com/github/Fabkres/ArtificialIntelligence/blob/main/Rede_SOM.ipynb\" target=\"_parent\"><img src=\"https://colab.research.google.com/assets/colab-badge.svg\" alt=\"Open In Colab\"/></a>"
      ]
    },
    {
      "cell_type": "markdown",
      "source": [
        "##Implementação da rede SOM - Self-Organizing Maps"
      ],
      "metadata": {
        "id": "nCIoNmD0yZV2"
      }
    },
    {
      "cell_type": "code",
      "execution_count": 1,
      "metadata": {
        "id": "n2U5TbSKTje-"
      },
      "outputs": [],
      "source": [
        "import matplotlib.pylab as plt\n",
        "import numpy as np\n",
        "import gzip\n",
        "from sklearn.model_selection import train_test_split\n",
        "from sklearn.preprocessing import scale\n",
        "import cv2\n",
        "\n",
        "%matplotlib inline"
      ]
    },
    {
      "cell_type": "code",
      "source": [
        "class SOM:\n",
        "    # Inicialização\n",
        "    def __init__(self, m, n, model=None, net_dim=(30, 30), learning_rate=0.5, iterations=100, n_classes = 10):\n",
        "        if model is None:\n",
        "            model = np.random.random((net_dim[0], net_dim[1], m))*0.01\n",
        "        self.model = model\n",
        "        self.net_dim = net_dim\n",
        "        self.learning_rate = learning_rate\n",
        "        self.iterations = iterations\n",
        "        self.init_radius = np.average(np.array(net_dim)) / 2\n",
        "        self.m = m\n",
        "        self.n = n\n",
        "        self.n_classes = n_classes\n",
        "        self.time_constant = iterations / np.log(self.init_radius)\n",
        "        self.labels = np.zeros((self.model.shape[0], self.model.shape[1], self.n_classes))\n",
        "\n",
        "    # Processo Competitivo\n",
        "    def fittest_neuron(self, feature):\n",
        "        \"\"\"\n",
        "        \tEncontrar o neurônio mais próximo w.r.t. características de entrada dadas x e modelo\n",
        "\n",
        "         \t:return: o neurônio e seu índice no modelo.\n",
        "        \"\"\"\n",
        "        # calcule a distância entre cada neurônio e a entrada usando operação vetorizada\n",
        "        distance = np.sqrt(np.sum((self.model - feature) ** 2, axis=2))\n",
        "        pos = np.unravel_index(np.argmin(distance, axis=None), distance.shape)\n",
        "        return (self.model[pos], pos)\n",
        "    \n",
        "    # Processo Cooperativo\n",
        "    def decay_radius(self, i):\n",
        "        return self.init_radius * np.exp(-i / self.time_constant)\n",
        "\n",
        "    def decay_learning_rate(self, i):\n",
        "        return self.learning_rate * np.exp(-i / self.iterations)\n",
        "\n",
        "    # vizinhança gaussiana (dij)=h)\n",
        "    def h(self, distance, radius):\n",
        "        return np.exp(-distance / (2* (radius**2)))\n",
        "\n",
        "    # Processo Adaptativo\n",
        "    def train(self, x_train):\n",
        "        zx = np.arange(0, self.net_dim[0], 1)\n",
        "        zy = np.arange(0, self.net_dim[1], 1)\n",
        "        zx, zy = np.meshgrid(zx,zy, indexing='ij')\n",
        "        mesh_init = np.array([zx, zy])\n",
        "\n",
        "        for i in range(self.iterations):\n",
        "            # sample = x_train[np.random.randint(0, n, 1)]\n",
        "            for feature in x_train:\n",
        "\n",
        "                # encontre o mais apto\n",
        "                fittest, fittest_idx = self.fittest_neuron(feature)\n",
        "            \n",
        "                # decair/reduzir os parâmetros do SOM\n",
        "                r = self.decay_radius(i)\n",
        "                l = self.decay_learning_rate(i)\n",
        "            \n",
        "                # atualizar o vetor de peso\n",
        "                mesh_init[0] = mesh_init[0] - fittest_idx[0]\n",
        "                mesh_init[1] = mesh_init[1] - fittest_idx[1]\n",
        "                mesh = np.sqrt(np.sum(mesh_init ** 2, axis=0))\n",
        "                neighbor_mask = mesh < r\n",
        "                if len(neighbor_mask.flatten()) > 0:\n",
        "                    mesh[neighbor_mask] = self.h(mesh[neighbor_mask], r)\n",
        "                    self.model[neighbor_mask] = self.model[neighbor_mask] + l * np.multiply(mesh[neighbor_mask][:, np.newaxis], (feature - self.model)[neighbor_mask])   \n",
        "    \n",
        "    def error(self, x):\n",
        "        distances = np.empty((x.shape[0],))\n",
        "        for idx, feature in enumerate(x):\n",
        "            fittest, fittest_idx = self.fittest_neuron(feature)\n",
        "            distances[idx] = ((fittest - feature) ** 2).sum()\n",
        "        return distances.mean()\n",
        "\n",
        "    def label_neurons(self, x_train, y_train):\n",
        "        # Eliminando os dados de treinamento e selecionando o neurônio vencedor\n",
        "        for idx, feature in enumerate(x_train):\n",
        "            distance = np.sqrt(np.sum((self.model - feature) ** 2, axis=2))\n",
        "            pos = np.unravel_index(np.argmin(distance, axis=None), distance.shape)\n",
        "            self.labels[pos[0], pos[1], y_train[idx]] += 1\n",
        "        self.labels = np.argmax(self.labels, axis=2)\n",
        "        return self.labels\n",
        "\n",
        "    def accuracy(self, x_test, y_test):\n",
        "        t = 0\n",
        "        for idx, feature in enumerate(x_test):\n",
        "            distance = np.sqrt(np.sum((self.model - feature) ** 2, axis=2))\n",
        "            pos = np.unravel_index(np.argmin(distance, axis=None), distance.shape)\n",
        "            if self.labels[pos[0], pos[1]] == y_test[idx]:\n",
        "                t += 1\n",
        "        return t / len(y_test)\n",
        "\n",
        "    def visualize_map(self, x_test, y_test):\n",
        "        wmap = {}\n",
        "        im = 0\n",
        "        for x, t in zip(x_test[:1000], y_test[:1000]):\n",
        "            distance = np.sqrt(np.sum((self.model - x) ** 2, axis=2))\n",
        "            pos = np.unravel_index(np.argmin(distance, axis=None), distance.shape)\n",
        "            wmap[pos] = im\n",
        "            plt.text(pos[0],  pos[1],  str(t), color=plt.cm.rainbow(t / 10.), fontdict={'weight': 'bold',  'size': 11})\n",
        "            im = im + 1\n",
        "        plt.axis([0, self.model.shape[0], 0,  self.model.shape[1]])\n",
        "        plt.show()\n",
        "\n",
        "    def visualize_u_matrix(self):\n",
        "        u_matrix = np.zeros((self.model.shape[0], self.model.shape[1]))\n",
        "\n",
        "        for i in range(self.model.shape[0]):\n",
        "            for j in range(self.model.shape[1]):\n",
        "                neighbors = []\n",
        "                if i > 0:\n",
        "                    neighbors.append(self.model[i - 1, j])\n",
        "                if i < self.model.shape[0] - 1:\n",
        "                    neighbors.append(self.model[i + 1, j])\n",
        "                if j > 0:\n",
        "                    neighbors.append(self.model[i, j - 1])\n",
        "                if j < self.model.shape[1] - 1:\n",
        "                    neighbors.append(self.model[i, j + 1])\n",
        "\n",
        "                u_matrix[i, j] = np.mean(np.linalg.norm(neighbors - self.model[i, j], axis=1))\n",
        "\n",
        "        plt.imshow(u_matrix, cmap='hot', interpolation='nearest')\n",
        "        plt.colorbar()\n",
        "        plt.title('U-Matrix')\n",
        "        plt.show()\n",
        "\n"
      ],
      "metadata": {
        "id": "xvggu2m8XIqU"
      },
      "execution_count": 44,
      "outputs": []
    },
    {
      "cell_type": "code",
      "source": [
        "from sklearn.datasets import make_blobs\n",
        "\n",
        "\n",
        "X, y = make_blobs(n_samples=1000, centers=5, random_state=42)\n",
        "\n",
        "\n",
        "m = X.shape[1]  # número de característica\n",
        "n = X.shape[0]  # número de amostras\n",
        "kohonen = SOM(m=m, n=n, net_dim=(30, 30))\n",
        "\n",
        "# Treinando a rede SOM\n",
        "kohonen.train(X)\n",
        "\n",
        "# Visualizando o mapa treinado\n",
        "kohonen.visualize_map(X, y)"
      ],
      "metadata": {
        "colab": {
          "base_uri": "https://localhost:8080/",
          "height": 435
        },
        "id": "2yzKn7vVij-_",
        "outputId": "7d4ccb95-95ba-464c-b1c8-2e686dd43f80"
      },
      "execution_count": 45,
      "outputs": [
        {
          "output_type": "display_data",
          "data": {
            "text/plain": [
              "<Figure size 640x480 with 1 Axes>"
            ],
            "image/png": "[encoded data removed]"
          },
          "metadata": {}
        }
      ]
    },
    {
      "cell_type": "code",
      "source": [
        "import numpy as np\n",
        "from sklearn.datasets import fetch_openml\n",
        "from sklearn.preprocessing import MinMaxScaler\n",
        "\n",
        "# Carregar dados MNIST\n",
        "mnist = fetch_openml('mnist_784')\n",
        "X = mnist.data.astype(float)\n",
        "y = mnist.target.astype(int)\n",
        "\n",
        "# Normalizar os dados\n",
        "scaler = MinMaxScaler()\n",
        "X = scaler.fit_transform(X)\n",
        "\n",
        "# Reduzir o conjunto de dados para poucos dados (opcional)\n",
        "n_samples = 10\n",
        "X = X[:n_samples]\n",
        "y = y[:n_samples]\n",
        "\n",
        "# Definir as dimensões de entrada e o número de classes\n",
        "input_dim = X.shape[1]\n",
        "n_classes = len(np.unique(y))\n",
        "\n",
        "# Criar uma instância da classe SOM\n",
        "kohonen = SOM(input_dim, n_classes)\n",
        "\n",
        "# Treinar a rede\n",
        "kohonen.train(X)\n",
        "\n",
        "# Rotular os neurônios vencedores\n",
        "labels = kohonen.label_neurons(X, y)\n",
        "\n",
        "# Calcular a precisão da rede\n",
        "accuracy = kohonen.accuracy(X, y)\n",
        "\n",
        "# Visualizar o mapa\n",
        "kohonen.visualize_map(X, y)\n"
      ],
      "metadata": {
        "colab": {
          "base_uri": "https://localhost:8080/",
          "height": 490
        },
        "id": "SX9XnwJ8Yrzi",
        "outputId": "3ee83bd4-b2cf-4769-9aac-1d6cea4818c6"
      },
      "execution_count": 48,
      "outputs": [
        {
          "output_type": "stream",
          "name": "stderr",
          "text": [
            "/usr/local/lib/python3.10/dist-packages/sklearn/datasets/_openml.py:968: FutureWarning: The default value of `parser` will change from `'liac-arff'` to `'auto'` in 1.4. You can set `parser='auto'` to silence this warning. Therefore, an `ImportError` will be raised from 1.4 if the dataset is dense and pandas is not installed. Note that the pandas parser may return different data types. See the Notes Section in fetch_openml's API doc for details.\n",
            "  warn(\n"
          ]
        },
        {
          "output_type": "display_data",
          "data": {
            "text/plain": [
              "<Figure size 640x480 with 1 Axes>"
            ],
            "image/png": "[encoded data removed]"
          },
          "metadata": {}
        }
      ]
    },
    {
      "cell_type": "code",
      "source": [
        "accuracy"
      ],
      "metadata": {
        "colab": {
          "base_uri": "https://localhost:8080/"
        },
        "id": "rlh6eDiy2bHX",
        "outputId": "51a0ba85-e002-4f16-e178-4c3b6fac37cf"
      },
      "execution_count": 49,
      "outputs": [
        {
          "output_type": "execute_result",
          "data": {
            "text/plain": [
              "0.8"
            ]
          },
          "metadata": {},
          "execution_count": 49
        }
      ]
    },
    {
      "cell_type": "markdown",
      "source": [
        "###Usando a base de dados wines com a biblioteca MiniSom"
      ],
      "metadata": {
        "id": "CqrKf1L63y2n"
      }
    },
    {
      "cell_type": "code",
      "source": [
        "!pip install MiniSom\n",
        "from google.colab import drive\n",
        "drive.mount('/content/drive')"
      ],
      "metadata": {
        "colab": {
          "base_uri": "https://localhost:8080/"
        },
        "id": "n_iCjnF03ycC",
        "outputId": "ad658e66-b4b5-408b-c297-046dde1d1c78"
      },
      "execution_count": 51,
      "outputs": [
        {
          "output_type": "stream",
          "name": "stdout",
          "text": [
            "Looking in indexes: https://pypi.org/simple, https://us-python.pkg.dev/colab-wheels/public/simple/\n",
            "Requirement already satisfied: MiniSom in /usr/local/lib/python3.10/dist-packages (2.3.1)\n",
            "Mounted at /content/drive\n"
          ]
        }
      ]
    },
    {
      "cell_type": "code",
      "source": [
        "from minisom import MiniSom\n",
        "import pandas as pd\n",
        "\n",
        "base = pd.read_csv('/content/drive/MyDrive/Colab Notebooks/wines.csv')\n",
        "\n",
        "X = base.iloc[:,1:14].values\n",
        "y = base.iloc[:,0].values\n",
        "\n",
        "from sklearn.preprocessing import MinMaxScaler\n",
        "normalizador = MinMaxScaler(feature_range = (0,1))\n",
        "X = normalizador.fit_transform(X)\n",
        "\n",
        "som = MiniSom(x = 8, y = 8, input_len = 13, sigma = 1.0, learning_rate = 0.5, random_seed = 2)\n",
        "som.random_weights_init(X)\n",
        "som.train_random(data = X, num_iteration = 100)\n",
        "\n",
        "som._weights\n",
        "som._activation_map\n",
        "q = som.activation_response(X)"
      ],
      "metadata": {
        "id": "QNXnbY464E5O"
      },
      "execution_count": 52,
      "outputs": []
    },
    {
      "cell_type": "code",
      "source": [
        "\n",
        "from pylab import pcolor, colorbar, plot\n",
        "pcolor(som.distance_map().T)\n",
        "# MID - mean inter neuron distance\n",
        "colorbar()\n",
        "\n",
        "w = som.winner(X[2])\n",
        "markers = ['o', 's', 'D']\n",
        "color = ['r', 'g', 'b']\n",
        "y[y == 1] = 0\n",
        "y[y == 2] = 1\n",
        "y[y == 3] = 2\n",
        "\n",
        "for i, x in enumerate(X):\n",
        "    #print(i)\n",
        "    #print(x)\n",
        "    w = som.winner(x)\n",
        "    #print(w)\n",
        "    plot(w[0] + 0.5, w[1] + 0.5, markers[y[i]],\n",
        "         markerfacecolor = 'None', markersize = 10,\n",
        "         markeredgecolor = color[y[i]], markeredgewidth = 2)"
      ],
      "metadata": {
        "colab": {
          "base_uri": "https://localhost:8080/",
          "height": 435
        },
        "id": "1XcWvWsW4ccK",
        "outputId": "4bd8d79f-c16d-45a2-e332-9b8b09df3225"
      },
      "execution_count": 53,
      "outputs": [
        {
          "output_type": "display_data",
          "data": {
            "text/plain": [
              "<Figure size 640x480 with 2 Axes>"
            ],
            "image/png": "[encoded data removed]"
          },
          "metadata": {}
        }
      ]
    }
  ]
}